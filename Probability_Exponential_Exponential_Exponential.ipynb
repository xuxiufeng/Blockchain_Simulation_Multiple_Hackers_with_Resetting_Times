{
  "nbformat": 4,
  "nbformat_minor": 0,
  "metadata": {
    "colab": {
      "provenance": [],
      "authorship_tag": "ABX9TyMQiM+18kHj+OBWyZnq7kUw",
      "include_colab_link": true
    },
    "kernelspec": {
      "name": "python3",
      "display_name": "Python 3"
    },
    "language_info": {
      "name": "python"
    }
  },
  "cells": [
    {
      "cell_type": "markdown",
      "metadata": {
        "id": "view-in-github",
        "colab_type": "text"
      },
      "source": [
        "<a href=\"https://colab.research.google.com/github/xuxiufeng/Blockchain_Simulation_Multiple_Hackers_with_Resetting_Times/blob/main/Probability_Exponential_Exponential_Exponential.ipynb\" target=\"_parent\"><img src=\"https://colab.research.google.com/assets/colab-badge.svg\" alt=\"Open In Colab\"/></a>"
      ]
    },
    {
      "cell_type": "code",
      "execution_count": 1,
      "metadata": {
        "id": "IXnhOiQRacUk"
      },
      "outputs": [],
      "source": [
        "import numpy as np\n",
        "import matplotlib.pyplot as plt"
      ]
    },
    {
      "cell_type": "code",
      "source": [
        "np.random.seed(1)"
      ],
      "metadata": {
        "id": "SVWNEiIUbn8Q"
      },
      "execution_count": 2,
      "outputs": []
    },
    {
      "cell_type": "code",
      "source": [
        "k = 5"
      ],
      "metadata": {
        "id": "E_aw2onTCWWa"
      },
      "execution_count": 5,
      "outputs": []
    },
    {
      "cell_type": "code",
      "source": [
        "lambda_list = np.random.uniform(7,9,k)\n",
        "lambda_list"
      ],
      "metadata": {
        "colab": {
          "base_uri": "https://localhost:8080/"
        },
        "id": "FUyZSIT6CXP_",
        "outputId": "beb138a0-873b-4b4b-d086-d0183f7f4bc7"
      },
      "execution_count": 6,
      "outputs": [
        {
          "output_type": "execute_result",
          "data": {
            "text/plain": [
              "array([7.83404401, 8.44064899, 7.00022875, 7.60466515, 7.29351178])"
            ]
          },
          "metadata": {},
          "execution_count": 6
        }
      ]
    },
    {
      "cell_type": "code",
      "source": [
        "def Generate_Z(m, lambda_list):\n",
        "    sum_of_x_list = []\n",
        "    for i in range(len(lambda_list)):\n",
        "        sum_of_x_list.append(np.sum(np.random.exponential(1/lambda_list[i], m)))\n",
        "    Z = min(sum_of_x_list)\n",
        "    return Z\n",
        "def T_m(m, lambda_list, delta, eta):\n",
        "    sum_of_time = 0\n",
        "    sum_of_w = 0\n",
        "    y = np.random.exponential(1/delta)\n",
        "    w = np.random.exponential(1/eta)\n",
        "    Z_m = Generate_Z(m, lambda_list)\n",
        "    while Z_m > y:\n",
        "        sum_of_time = sum_of_time + y + w\n",
        "        sum_of_w += w\n",
        "        Z_m = Generate_Z(m, lambda_list)\n",
        "        y = np.random.exponential(1/delta)\n",
        "        w = np.random.exponential(1/eta)\n",
        "    return sum_of_time + Z_m, sum_of_w\n"
      ],
      "metadata": {
        "id": "fEtAcg9kcWad"
      },
      "execution_count": 4,
      "outputs": []
    },
    {
      "cell_type": "code",
      "source": [
        "def P_mt1(t, m, lamb, delta, N=50000): # 50000\n",
        "    res = np.repeat(np.nan, N)\n",
        "    Prob = np.repeat(np.nan, len(m))\n",
        "    for i in range(len(m)):\n",
        "        for j in range(N):\n",
        "             res[j] = t < T_m(m[i], lamb, delta)\n",
        "        Prob[i] = np.sum(res)/N\n",
        "    return (Prob)\n",
        ""
      ],
      "metadata": {
        "id": "CKGsxNzscWhK"
      },
      "execution_count": null,
      "outputs": []
    },
    {
      "cell_type": "code",
      "source": [
        "\n",
        "def P_mt1(t, m, lamb, delta, N=50000): # 50000\n",
        "    res = np.repeat(np.nan, N)\n",
        "    Prob = np.repeat(np.nan, len(m))\n",
        "    for i in range(len(m)):\n",
        "        for j in range(N):\n",
        "             res[j] = t < T_m(m[i], lamb, delta)\n",
        "        Prob[i] = np.sum(res)/N\n",
        "    return (Prob)\n",
        ""
      ],
      "metadata": {
        "id": "hE9Rzq5KcWjj"
      },
      "execution_count": null,
      "outputs": []
    },
    {
      "cell_type": "code",
      "source": [
        "m = 40\n",
        "lamb = 0.2\n",
        "delta = 3\n",
        "t_cross_section = 5\n",
        "P_mt = P_mt1(t_cross_section, range(1, m+1), lamb, delta)\n",
        "fig = plt.figure(figsize=(8, 6))\n",
        "plt.scatter(range(1, m+1), P_mt)\n",
        "plt.xlabel(r'm')\n",
        "plt.ylabel(r'P_m(5)')\n",
        "plt.title('Exponential Hacking, Exponential Detecting Times, and Exponential Resetting Times')\n",
        "plt.show()"
      ],
      "metadata": {
        "id": "3sAh2TddcWl-"
      },
      "execution_count": null,
      "outputs": []
    },
    {
      "cell_type": "code",
      "source": [],
      "metadata": {
        "id": "R2ZH9J3ZcWoP"
      },
      "execution_count": null,
      "outputs": []
    },
    {
      "cell_type": "code",
      "source": [],
      "metadata": {
        "id": "Ugyn4sd1cWqa"
      },
      "execution_count": null,
      "outputs": []
    }
  ]
}