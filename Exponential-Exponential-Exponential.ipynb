{
  "nbformat": 4,
  "nbformat_minor": 0,
  "metadata": {
    "colab": {
      "provenance": [],
      "authorship_tag": "ABX9TyPcue/ZB4FiH5F8PmjkTxss",
      "include_colab_link": true
    },
    "kernelspec": {
      "name": "python3",
      "display_name": "Python 3"
    },
    "language_info": {
      "name": "python"
    }
  },
  "cells": [
    {
      "cell_type": "markdown",
      "metadata": {
        "id": "view-in-github",
        "colab_type": "text"
      },
      "source": [
        "<a href=\"https://colab.research.google.com/github/xuxiufeng/Blockchain_Simulation_Multiple_Hackers_with_Resetting_Times/blob/main/Exponential-Exponential-Exponential.ipynb\" target=\"_parent\"><img src=\"https://colab.research.google.com/assets/colab-badge.svg\" alt=\"Open In Colab\"/></a>"
      ]
    },
    {
      "cell_type": "code",
      "execution_count": 1,
      "metadata": {
        "id": "aV47sI5PICw0"
      },
      "outputs": [],
      "source": [
        "import numpy as np\n",
        "import matplotlib.pyplot as plt"
      ]
    },
    {
      "cell_type": "code",
      "source": [
        "np.random.seed(1)"
      ],
      "metadata": {
        "id": "q5-r-bmLL8Qq"
      },
      "execution_count": 2,
      "outputs": []
    },
    {
      "cell_type": "code",
      "source": [
        "k = 5"
      ],
      "metadata": {
        "id": "AvCHJMw6PbNC"
      },
      "execution_count": 74,
      "outputs": []
    },
    {
      "cell_type": "markdown",
      "source": [
        "Generate $k$ $\\lambda$s: $\\lambda_1, \\dots, \\lambda_k$."
      ],
      "metadata": {
        "id": "KgrgUoPgPo-g"
      }
    },
    {
      "cell_type": "code",
      "source": [
        "lambda_list = np.random.uniform(2,3,k)\n",
        "lambda_list"
      ],
      "metadata": {
        "colab": {
          "base_uri": "https://localhost:8080/"
        },
        "id": "KGyNa2GlPScn",
        "outputId": "25db99cc-2e34-49c6-8419-3a7473fb65ff"
      },
      "execution_count": 75,
      "outputs": [
        {
          "output_type": "execute_result",
          "data": {
            "text/plain": [
              "array([2.80706608, 2.88264045, 2.14159589, 2.17420018, 2.23685768])"
            ]
          },
          "metadata": {},
          "execution_count": 75
        }
      ]
    },
    {
      "cell_type": "markdown",
      "source": [
        "For $X\\sim Exp(\\lambda_j)$, we have\n",
        "\\begin{eqnarray*}\n",
        "f(x)=\\lambda_j e^{-\\lambda_j x }, \\quad x>0.\n",
        "\\end{eqnarray*}"
      ],
      "metadata": {
        "id": "-fqkgwY5PnYM"
      }
    },
    {
      "cell_type": "code",
      "source": [
        "def ET_m(m, lambda_list, delta, eta):\n",
        "    def Generate_Z(m, lambda_list):\n",
        "        sum_of_x_list = []\n",
        "        for i in range(len(lambda_list)):\n",
        "            sum_of_x_list.append(np.sum(np.random.exponential(1/lambda_list[i], m)))\n",
        "        Z = min(sum_of_x_list)\n",
        "        return Z\n",
        "    def T_m(m, lambda_list, delta, eta):\n",
        "        sum_of_time = 0\n",
        "        y = np.random.exponential(1/delta)\n",
        "        w = np.random.exponential(1/eta)\n",
        "        Z_m = Generate_Z(m, lambda_list)\n",
        "        while Z_m > y:\n",
        "            sum_of_time = y + w\n",
        "            Z_m = Generate_Z(m, lambda_list)\n",
        "            y = np.random.exponential(1/delta)\n",
        "            w = np.random.exponential(1/eta)\n",
        "        return sum_of_time + Z_m\n",
        "\n",
        "    ET = np.repeat(np.nan, m)\n",
        "    for i in range(m):\n",
        "        T_0 = 0\n",
        "        iter = 30000 # iter 30000\n",
        "        for j in range(iter):\n",
        "            T_0 += T_m(i+1, lambda_list, delta, eta)\n",
        "        ET[i] = T_0/iter\n",
        "        print(ET[i])\n",
        "    return ET"
      ],
      "metadata": {
        "id": "7fVgiJQPL_5Q"
      },
      "execution_count": 76,
      "outputs": []
    },
    {
      "cell_type": "code",
      "source": [
        "m = 40\n",
        "delta = 1/3\n",
        "eta = 1/2\n",
        "ET_m = ET_m(m, lambda_list, delta, eta)\n",
        "fig = plt.figure(figsize=(8, 6))\n",
        "plt.scatter(range(1, m+1), ET_m)\n",
        "plt.xlabel(r'm')\n",
        "plt.ylabel(r'E[T_m] (unit: hour)')\n",
        "plt.title('Exponential Hacking, Exponential Detecting Times, and Exponential Resetting Time')\n",
        "plt.show()"
      ],
      "metadata": {
        "colab": {
          "base_uri": "https://localhost:8080/",
          "height": 1000
        },
        "id": "s62X5JepMFuJ",
        "outputId": "46bbf568-bce3-4bed-a71a-af9aba94d4ac"
      },
      "execution_count": 77,
      "outputs": [
        {
          "output_type": "stream",
          "name": "stdout",
          "text": [
            "0.13198593082084006\n",
            "0.46494787386720454\n",
            "0.8975271941292241\n",
            "1.3469932816765753\n",
            "1.8228960951057727\n",
            "2.2817341660946155\n",
            "2.803913391864513\n",
            "3.3112341829810235\n",
            "3.8330614542391794\n",
            "4.310008624764315\n",
            "4.831815635567958\n",
            "5.314828890331432\n",
            "5.807445152901981\n",
            "6.289792443809428\n",
            "6.73639925285018\n",
            "7.248797812769561\n",
            "7.666300615156812\n",
            "8.158506717539717\n",
            "8.592207600535893\n",
            "8.989254373379742\n",
            "9.434217689797789\n",
            "9.879299723297136\n",
            "10.244476582863268\n",
            "10.687753286613605\n",
            "11.090480488719983\n",
            "11.479715842359072\n",
            "11.863560509196512\n",
            "12.27177369894427\n",
            "12.64778719184562\n",
            "13.018543301274889\n",
            "13.385092648714195\n",
            "13.748650557233153\n",
            "14.08032068029956\n",
            "14.464058558227395\n",
            "14.864127828739493\n",
            "15.150442582778517\n",
            "15.501141248348626\n",
            "15.854765458740086\n",
            "16.175445352809707\n",
            "16.529696401389273\n"
          ]
        },
        {
          "output_type": "display_data",
          "data": {
            "text/plain": [
              "<Figure size 800x600 with 1 Axes>"
            ],
            "image/png": "[encoded data removed]"
          },
          "metadata": {}
        }
      ]
    }
  ]
}